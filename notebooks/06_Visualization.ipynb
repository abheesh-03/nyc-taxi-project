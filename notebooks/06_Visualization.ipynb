{
 "cells": [
  {
   "cell_type": "code",
   "execution_count": 10,
   "id": "2d4eb074-edda-4225-bcdb-62f55f8cb5d0",
   "metadata": {},
   "outputs": [
    {
     "name": "stdout",
     "output_type": "stream",
     "text": [
      "The autoreload extension is already loaded. To reload it, use:\n",
      "  %reload_ext autoreload\n"
     ]
    }
   ],
   "source": [
    "%load_ext autoreload\n",
    "%autoreload 2"
   ]
  },
  {
   "cell_type": "code",
   "execution_count": 11,
   "id": "f64b0455-ac71-47cc-bd21-14a4eccdeb15",
   "metadata": {},
   "outputs": [],
   "source": [
    "import sys\n",
    "import os\n",
    "\n",
    "# Add the parent directory to the Python path\n",
    "sys.path.append(os.path.abspath(os.path.join(os.getcwd(), \"..\")))"
   ]
  },
  {
   "cell_type": "code",
   "execution_count": 12,
   "id": "85061677-bad0-4f8a-b294-b56834a8ebca",
   "metadata": {},
   "outputs": [],
   "source": [
    "import pandas as pd\n",
    "\n",
    "from src.config import TRANSFORMED_DATA_DIR\n",
    "\n",
    "features_and_targets = pd.read_parquet(TRANSFORMED_DATA_DIR / \"tabular_data.parquet\")"
   ]
  },
  {
   "cell_type": "code",
   "execution_count": 13,
   "id": "e52fc1ef-42a9-4757-86dc-bfbbc9b7b357",
   "metadata": {},
   "outputs": [],
   "source": [
    "features = features_and_targets.iloc[:, :-1]\n",
    "targets = features_and_targets[\"target\"]\n"
   ]
  },
  {
   "cell_type": "code",
   "execution_count": 14,
   "id": "62a9b02a-8543-4b80-8ca8-0ed821add85d",
   "metadata": {},
   "outputs": [
    {
     "name": "stdout",
     "output_type": "stream",
     "text": [
      "Available columns: Index(['rides_t-672', 'rides_t-671', 'rides_t-670', 'rides_t-669',\n",
      "       'rides_t-668', 'rides_t-667', 'rides_t-666', 'rides_t-665',\n",
      "       'rides_t-664', 'rides_t-663',\n",
      "       ...\n",
      "       'rides_t-8', 'rides_t-7', 'rides_t-6', 'rides_t-5', 'rides_t-4',\n",
      "       'rides_t-3', 'rides_t-2', 'rides_t-1', 'pickup_hour',\n",
      "       'pickup_location_id'],\n",
      "      dtype='object', length=674)\n",
      "Column 'location_id' not found! Available columns: Index(['rides_t-672', 'rides_t-671', 'rides_t-670', 'rides_t-669',\n",
      "       'rides_t-668', 'rides_t-667', 'rides_t-666', 'rides_t-665',\n",
      "       'rides_t-664', 'rides_t-663',\n",
      "       ...\n",
      "       'rides_t-8', 'rides_t-7', 'rides_t-6', 'rides_t-5', 'rides_t-4',\n",
      "       'rides_t-3', 'rides_t-2', 'rides_t-1', 'pickup_hour',\n",
      "       'pickup_location_id'],\n",
      "      dtype='object', length=674)\n"
     ]
    }
   ],
   "source": [
    "# Check column names\n",
    "print(\"Available columns:\", features.columns)\n",
    "\n",
    "# Normalize column names\n",
    "features.columns = features.columns.str.strip().str.lower()\n",
    "\n",
    "# Ensure 'location_id' exists\n",
    "if \"location_id\" not in features.columns:\n",
    "    print(\"Column 'location_id' not found! Available columns:\", features.columns)\n",
    "else:\n",
    "    # Filter by location_id if available\n",
    "    filtered_features = features[features[\"location_id\"] == 43]\n",
    "    print(filtered_features)"
   ]
  },
  {
   "cell_type": "code",
   "execution_count": 3,
   "id": "018e7315-b95b-48ef-8400-b5156031f1c2",
   "metadata": {},
   "outputs": [],
   "source": [
    "def plot_aggregated_time_series(features, targets, row_id, predictions=None):\n",
    "    \"\"\"\n",
    "    Plots the time series data for a specific location from NYC taxi data.\n",
    "\n",
    "    Args:\n",
    "        features (pd.DataFrame): The DataFrame containing historical ride counts.\n",
    "        targets (pd.DataFrame): The DataFrame containing actual ride counts.\n",
    "        row_id (int): The pickup location ID to plot.\n",
    "        predictions (pd.DataFrame, optional): Predicted values to overlay.\n",
    "\n",
    "    Returns:\n",
    "        plotly.graph_objects.Figure: A Plotly figure object showing the time series plot.\n",
    "    \"\"\"\n",
    "    # Fix: Correct the filtering syntax\n",
    "    location_features = features[features[\"pickup_location_id\"] == 3772]\n",
    "    actual_target = targets[targets[\"pickup_location_id\"] == 3772]"
   ]
  },
  {
   "cell_type": "code",
   "execution_count": null,
   "id": "925e2b4f-0cfc-406b-a509-34ee4f07bc8f",
   "metadata": {},
   "outputs": [],
   "source": []
  }
 ],
 "metadata": {
  "kernelspec": {
   "display_name": "Python (venv)",
   "language": "python",
   "name": "venv"
  },
  "language_info": {
   "codemirror_mode": {
    "name": "ipython",
    "version": 3
   },
   "file_extension": ".py",
   "mimetype": "text/x-python",
   "name": "python",
   "nbconvert_exporter": "python",
   "pygments_lexer": "ipython3",
   "version": "3.10.6"
  }
 },
 "nbformat": 4,
 "nbformat_minor": 5
}
