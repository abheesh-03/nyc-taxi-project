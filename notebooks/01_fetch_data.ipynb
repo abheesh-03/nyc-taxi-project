{
 "cells": [
  {
   "cell_type": "code",
   "execution_count": 6,
   "id": "5b8c8690-15f8-4090-89ec-d39a563b4a4e",
   "metadata": {},
   "outputs": [],
   "source": [
    "from pathlib import Path\n",
    "import pandas as pd\n",
    "import requests\n",
    "\n",
    "def fetch_raw_data(year: int, month: int) -> str:\n",
    "    url = f\"https://d37ci6vzurychx.cloudfront.net/trip-data/yellow_tripdata_{year}-{month:02}.parquet\"\n",
    "    response = requests.get(url)\n",
    "    if response.status_code == 200:\n",
    "        # Use pathlib to construct the path\n",
    "        path = Path(\"..\") / \"data\" / \"raw\" / f\"rides_{year}_{month:02}.parquet\"\n",
    "        # Ensure the parent directory exists\n",
    "        path.parent.mkdir(parents=True, exist_ok=True)\n",
    "        # Write the content to the file\n",
    "        path.write_bytes(response.content)\n",
    "        print(f\"Successfully fetched: {str(path)}\")\n",
    "        return str(path)\n",
    "    else:\n",
    "        raise Exception(f\"{url} is not available\")\n",
    "    fetch_raw_data(2023,1)"
   ]
  },
  {
   "cell_type": "code",
   "execution_count": 4,
   "id": "a5c0121f-6e50-465e-87a4-318a6e99499a",
   "metadata": {},
   "outputs": [
    {
     "name": "stdout",
     "output_type": "stream",
     "text": [
      "Successfully fetched: ..\\data\\raw\\rides_2023_01.parquet\n"
     ]
    },
    {
     "data": {
      "text/plain": [
       "'..\\\\data\\\\raw\\\\rides_2023_01.parquet'"
      ]
     },
     "execution_count": 4,
     "metadata": {},
     "output_type": "execute_result"
    }
   ],
   "source": []
  },
  {
   "cell_type": "code",
   "execution_count": null,
   "id": "c1cb5443-09cb-4128-ae7d-91d2b6073e34",
   "metadata": {},
   "outputs": [],
   "source": []
  }
 ],
 "metadata": {
  "kernelspec": {
   "display_name": "Python 3 (ipykernel)",
   "language": "python",
   "name": "python3"
  },
  "language_info": {
   "codemirror_mode": {
    "name": "ipython",
    "version": 3
   },
   "file_extension": ".py",
   "mimetype": "text/x-python",
   "name": "python",
   "nbconvert_exporter": "python",
   "pygments_lexer": "ipython3",
   "version": "3.10.6"
  }
 },
 "nbformat": 4,
 "nbformat_minor": 5
}
